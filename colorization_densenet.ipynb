{
  "nbformat": 4,
  "nbformat_minor": 0,
  "metadata": {
    "colab": {
      "name": "colorization_densenet.ipynb",
      "version": "0.3.2",
      "provenance": [],
      "include_colab_link": true
    },
    "kernelspec": {
      "name": "python3",
      "display_name": "Python 3"
    }
  },
  "cells": [
    {
      "cell_type": "markdown",
      "metadata": {
        "id": "view-in-github",
        "colab_type": "text"
      },
      "source": [
        "<a href=\"https://colab.research.google.com/github/ysikalie/colorization/blob/master/colorization_densenet.ipynb\" target=\"_parent\"><img src=\"https://colab.research.google.com/assets/colab-badge.svg\" alt=\"Open In Colab\"/></a>"
      ]
    },
    {
      "metadata": {
        "id": "w5B1slXcaQsY",
        "colab_type": "code",
        "outputId": "84ecfb5f-e511-43ff-e7ba-f483dc30cb1e",
        "colab": {
          "base_uri": "https://localhost:8080/",
          "height": 35
        }
      },
      "cell_type": "code",
      "source": [
        "from keras.preprocessing import image\n",
        "from keras.engine import Layer\n",
        "from keras.applications.inception_resnet_v2 import preprocess_input\n",
        "from keras.layers import Conv2D, UpSampling2D, InputLayer,ZeroPadding2D, Conv2DTranspose, Input, Reshape, merge, concatenate\n",
        "from keras.layers import Activation, Dense, Dropout, Flatten,MaxPooling2D\n",
        "from keras.layers.normalization import BatchNormalization\n",
        "from keras.callbacks import TensorBoard\n",
        "from keras.models import Sequential, Model\n",
        "from keras.layers.core import RepeatVector, Permute\n",
        "from keras.preprocessing.image import ImageDataGenerator, array_to_img, img_to_array, load_img\n",
        "from skimage.color import rgb2lab, lab2rgb, rgb2gray, gray2rgb\n",
        "from skimage.transform import resize\n",
        "from skimage.io import imsave\n",
        "import numpy as np\n",
        "import os\n",
        "import random\n",
        "import tensorflow as  tf\n",
        "from keras.applications.densenet import DenseNet201\n",
        "X = []\n",
        "for filename in os.listdir('Train/train'):\n",
        "    X.append(img_to_array(load_img('Train/train/'+filename, target_size=(224, 224))))\n",
        "X = np.array(X, dtype=float)\n",
        "Xtrain = 1.0/255*X\n",
        "X_Test = []\n",
        "for filename in os.listdir('Test/test'):\n",
        "    X_Test.append(img_to_array(load_img('Test/test/'+filename,target_size=(224, 224))))\n",
        "X_Test = np.array(X_Test, dtype=float)\n",
        "\n",
        "Xtest = 1.0/255*X_Test\n",
        "\n",
        "#Load weights\n",
        "densenet = DenseNet201(weights=None ,include_top=False, input_shape=(224, 224,1))\n"
      ],
      "execution_count": 0,
      "outputs": [
        {
          "output_type": "stream",
          "text": [
            "[ 0.92787748 -0.04521731]\n"
          ],
          "name": "stdout"
        }
      ]
    },
    {
      "metadata": {
        "id": "DzwAtoF3XsaU",
        "colab_type": "code",
        "colab": {}
      },
      "cell_type": "code",
      "source": [
        "densenet = Model(inputs=densenet.input, outputs=densenet.get_layer('pool2_conv').output)\n",
        "densenet.summary()\n",
        "print('  ' ,densenet.output)"
      ],
      "execution_count": 0,
      "outputs": []
    },
    {
      "metadata": {
        "id": "RpfOZeirXvjr",
        "colab_type": "code",
        "colab": {}
      },
      "cell_type": "code",
      "source": [
        "from keras.layers import ZeroPadding2D\n",
        "from keras import layers,backend\n",
        "def dense_block(x, blocks, name):\n",
        "    \"\"\"A dense block.\n",
        "\n",
        "    # Arguments\n",
        "        x: input tensor.\n",
        "        blocks: integer, the number of building blocks.\n",
        "        name: string, block label.\n",
        "\n",
        "    # Returns\n",
        "        output tensor for the block.\n",
        "    \"\"\"\n",
        "    for i in range(blocks):\n",
        "        x = conv_block(x, 32, name=name + '_block' + str(i + 1))\n",
        "    return x\n",
        "\n",
        "def transition_block(x, reduction, name):\n",
        "    \"\"\"A transition block.\n",
        "\n",
        "    # Arguments\n",
        "        x: input tensor.\n",
        "        reduction: float, compression rate at transition layers.\n",
        "        name: string, block label.\n",
        "\n",
        "    # Returns\n",
        "        output tensor for the block.\n",
        "    \"\"\"\n",
        "    bn_axis =  3\n",
        "    x = layers.BatchNormalization(axis=bn_axis, epsilon=1.001e-5,\n",
        "                                  name=name + '_bn')(x)\n",
        "    x = layers.Activation('relu', name=name + '_relu')(x)\n",
        "    x = layers.Conv2D(int(backend.int_shape(x)[bn_axis] * reduction), 1,\n",
        "                      use_bias=False,\n",
        "                      name=name + '_conv')(x)\n",
        "    x = layers.AveragePooling2D(2, strides=2, name=name + '_pool')(x)\n",
        "    return x\n",
        "\n",
        "def conv_block(x, growth_rate, name):\n",
        "    \"\"\"A building block for a dense block.\n",
        "\n",
        "    # Arguments\n",
        "        x: input tensor.\n",
        "        growth_rate: float, growth rate at dense layers.\n",
        "        name: string, block label.\n",
        "\n",
        "    # Returns\n",
        "        Output tensor for the block.\n",
        "    \"\"\"\n",
        "    bn_axis =  3\n",
        "    x1 = layers.BatchNormalization(axis=bn_axis,\n",
        "                                   epsilon=1.001e-5,\n",
        "                                   name=name + '_0_bn')(x)\n",
        "    x1 = layers.Activation('relu', name=name + '_0_relu')(x1)\n",
        "    x1 = layers.Conv2D(4 * growth_rate, 1,\n",
        "                       use_bias=False,\n",
        "                       name=name + '_1_conv')(x1)\n",
        "    x1 = layers.BatchNormalization(axis=bn_axis, epsilon=1.001e-5,\n",
        "                                   name=name + '_1_bn')(x1)\n",
        "    x1 = layers.Activation('relu', name=name + '_1_relu')(x1)\n",
        "    x1 = layers.Conv2D(growth_rate, 3,\n",
        "                       padding='same',\n",
        "                       use_bias=False,\n",
        "                       name=name + '_2_conv')(x1)\n",
        "    x = layers.Concatenate(axis=bn_axis, name=name + '_concat')([x, x1])\n",
        "    return x\n"
      ],
      "execution_count": 0,
      "outputs": []
    },
    {
      "metadata": {
        "id": "cfxvI37KXyHU",
        "colab_type": "code",
        "colab": {}
      },
      "cell_type": "code",
      "source": [
        "encode_input =  Input(shape=(224, 224, 1))\n",
        "encode_output = ZeroPadding2D(padding=((3, 3), (3, 3)))(encode_input)\n",
        "encode_output = Conv2D(64, 7, strides=2, use_bias=False, name='conv1/conv')(encode_output)\n",
        "encode_output = BatchNormalization(\n",
        "    axis=3, epsilon=1.001e-5, name='conv1/bn')(encode_output)\n",
        "encode_output = Activation('relu', name='conv1/relu')(encode_output)\n",
        "encode_output = ZeroPadding2D(padding=((1, 1), (1, 1)))(encode_output)\n",
        "encode_output = MaxPooling2D(3, strides=2, name='pool1')(encode_output)\n",
        "\n",
        "encode_output = dense_block(encode_output, blocks=6, name='conv2')\n",
        "encode_output = transition_block(encode_output, 0.5, name='pool2')\n",
        "#Decoder\n",
        "decoder_output = Conv2D(128, (3,3), activation='relu', padding='same')(encode_output)\n",
        "decoder_output = Conv2D(64, (3,3), activation='relu', padding='same')(decoder_output)\n",
        "decoder_output = UpSampling2D((2, 2))(decoder_output)\n",
        "decoder_output = Conv2D(32, (3,3), activation='relu', padding='same')(decoder_output)\n",
        "decoder_output = Conv2D(16, (3,3), activation='relu', padding='same')(decoder_output)\n",
        "decoder_output = Conv2D(8, (3, 3), activation='tanh', padding='same')(decoder_output)\n",
        "decoder_output = UpSampling2D((2, 2))(decoder_output)\n",
        "decoder_output = Conv2D(2, (3, 3), activation='tanh', padding='same')(decoder_output)\n",
        "decoder_output = UpSampling2D((2, 2))(decoder_output)\n",
        "\n",
        "model = Model(inputs=encode_input, outputs=decoder_output)\n",
        "\n",
        "model.summary()"
      ],
      "execution_count": 0,
      "outputs": []
    },
    {
      "metadata": {
        "id": "p9XjFrduX0oW",
        "colab_type": "code",
        "colab": {}
      },
      "cell_type": "code",
      "source": [
        "def create_densenet_embedding(grayscaled_rgb):\n",
        "    grayscaled_rgb_resized = []\n",
        "    for i in grayscaled_rgb:\n",
        "        i = resize(i, (224, 224, 3), mode='constant')\n",
        "        grayscaled_rgb_resized.append(i)\n",
        "    grayscaled_rgb_resized = np.array(grayscaled_rgb_resized)\n",
        "    grayscaled_rgb_resized = preprocess_input(grayscaled_rgb_resized)\n",
        "    with densenet.graph.as_default():\n",
        "        embed = densenet.predict(grayscaled_rgb_resized)\n",
        "    return embed\n",
        "\n",
        "# Image transformer\n",
        "datagen = ImageDataGenerator(\n",
        "        shear_range=0.2,\n",
        "        zoom_range=0.2,\n",
        "        rotation_range=20,\n",
        "        horizontal_flip=True)\n",
        "\n",
        "#Generate training data\n",
        "batch_size = 2\n",
        "\n",
        "def train_image_gb_gen(batch_size):\n",
        "    for batch in datagen.flow(Xtrain, batch_size=2):\n",
        "        grayscaled_rgb = gray2rgb(rgb2gray(batch))\n",
        "        lab_batch = rgb2lab(batch)\n",
        "        X_batch = lab_batch[:,:,:,0]\n",
        "        X_batch = X_batch.reshape(X_batch.shape+(1,))\n",
        "        Y_batch = lab_batch[:,:,:,1:] / 128   \n",
        "        yield (X_batch, Y_batch)\n",
        "\n",
        "        \n",
        "def test_image_gb_gen(batch_size):\n",
        "    for batch in datagen.flow(Xtrain, batch_size=batch_size):\n",
        "        grayscaled_rgb = gray2rgb(rgb2gray(batch))\n",
        "        lab_batch = rgb2lab(batch)\n",
        "        X_batch = lab_batch[:,:,:,0]\n",
        "        X_batch = X_batch.reshape(X_batch.shape+(1,))\n",
        "        Y_batch = lab_batch[:,:,:,1:] / 128     \n",
        "        yield (X_batch, Y_batch)\n",
        "    \n",
        "\n",
        "model.compile(optimizer='rmsprop', loss='mse')\n",
        "# model.summary()\n",
        "model.fit_generator(train_image_gb_gen(batch_size), epochs=2,\n",
        "                    steps_per_epoch=5,\n",
        "                    validation_data=train_image_gb_gen(batch_size),\n",
        "                    validation_steps=4)"
      ],
      "execution_count": 0,
      "outputs": []
    },
    {
      "metadata": {
        "id": "aB9ARNYSX4Fl",
        "colab_type": "code",
        "colab": {}
      },
      "cell_type": "code",
      "source": [
        "color_me = []\n",
        "for filename in os.listdir('result'):\n",
        "    if filename.endswith('checkpoints'):\n",
        "        continue    \n",
        "    img = load_img('result/'+filename, target_size=(224, 224))             \n",
        "    color_me.append(img_to_array(img))\n",
        "color_me = np.array(color_me, dtype=float)\n",
        "if color_me.shape[-1]==3:\n",
        "    color_me = rgb2gray(color_me)\n",
        "color_me_L = np.array(color_me, dtype=float)/ 255.0 * 100 \n",
        "color_me_L = color_me.reshape(color_me.shape+(1,))\n",
        "\n",
        "# Test model\n",
        "output = model.predict(color_me_L)\n",
        "output = output * 128\n",
        "\n",
        "# Output colorizations\n",
        "for i in range(len(output)):\n",
        "    cur = np.zeros((224, 224, 3))\n",
        "    cur[:,:,0] = color_me_L[i][:,:,0]\n",
        "    cur[:,:,1:] = output[i]\n",
        "    imsave(\"result/img_\"+str(i)+\".png\", lab2rgb(cur))"
      ],
      "execution_count": 0,
      "outputs": []
    }
  ]
}